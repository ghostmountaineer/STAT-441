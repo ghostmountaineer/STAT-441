{
  "nbformat": 4,
  "nbformat_minor": 0,
  "metadata": {
    "colab": {
      "name": "HW_4.ipynb",
      "provenance": [],
      "collapsed_sections": []
    },
    "kernelspec": {
      "name": "python3",
      "display_name": "Python 3"
    }
  },
  "cells": [
    {
      "cell_type": "markdown",
      "metadata": {
        "id": "k2MYVMPxyVoF"
      },
      "source": [
        "#HW 4 "
      ]
    },
    {
      "cell_type": "markdown",
      "metadata": {
        "id": "hYuPlFKWwbyE"
      },
      "source": [
        "##5.4.3 from ISLR"
      ]
    },
    {
      "cell_type": "markdown",
      "metadata": {
        "id": "ikTTwZx_ysyf"
      },
      "source": [
        "##5.4.4 from ISLR"
      ]
    },
    {
      "cell_type": "markdown",
      "metadata": {
        "id": "0VEr091Tysoe"
      },
      "source": [
        "##Based on ISLR 5.4.5\n",
        "We will estimate the test error of using a logistic regression model to predict the default using a validation set approach. Do not forget to set a random seed before beginning your analysis.\n",
        "\n",
        "The default data is here: http://math.oit.edu/~overholserp/defaultofcreditcardclients.csv\n",
        "\n",
        "You may find this notebook helpful: https://colab.research.google.com/drive/1jfQF3YnUnq2PgjTOZKys4FFrxInjNdqL\n",
        "\n",
        "\n",
        "Read the description of the variables (here: https://archive.ics.uci.edu/ml/datasets/default+of+credit+card+clients) and select two predictors you feel may be informative in predicting default.  We will fit logistic regression models using each of the predictors, select the better model using cross validation, and estimate the prediction error using a validation set.\n",
        "\n",
        "In order to do this, you must perform the following steps:\n",
        "\n",
        "1) Split the sample set into a training set and a validation set.\n",
        "\n",
        "2) Using 10 fold cross validation, fit both of your models using the training data.  Select the model with the better performance during cross validation.\n",
        "\n",
        "3) Train the better model on the whole training set.\n",
        "\n",
        "4) Test your trained model's overall accuracy (proportion of total classified correctly) on the validation set.\n",
        "\n",
        "5) Compute the confidence interval (using the formula from Monday's lecture) for overall prediction accuracy.\n",
        "\n",
        "After completing this process, repeat for a different test-train split and compare your results.\n",
        "\n"
      ]
    },
    {
      "cell_type": "markdown",
      "metadata": {
        "id": "lMWPUf9W4rDO"
      },
      "source": [
        "##Sample size calculation\n",
        "Suppose you want to build a model to predict whether or not it will rain\n",
        "during a 12 hour period of May 8, 2020 (my birthday). \n",
        "\n",
        "In addition to giving your prediction of whether or\n",
        "not it will rain, you would like to state some degree of confidence in your\n",
        "prediction, for example, “I am 95% confident that my trained model will\n",
        "misclassify a rainy day as a dry day between L% and U% of the time”. The\n",
        "closer L and U are to each other, the more precise you can be about your\n",
        "model’s performance; it would be better if you could say the misclassification\n",
        "rate is between 2.4% and 3.3% rather than between 0.4% and 13.3%. So\n",
        "an important question is, how large should your test set be so that the\n",
        "confidence interval for your model’s misclassification rate is no more than\n",
        "$2(100\\tau)$ percentage points wide, for a given $\\tau$? Answer this question assuming you’d like\n",
        "your interval width to be no more than 2%, that is $\\tau = 0.01$. You should use the formula from lecture, $n = \\frac{1.96^2}{4\\tau^2}$ , for this calculation. \n",
        "\n",
        "1)Report the test set\n",
        "size and comment on whether you are likely to find this many examples of May 8th from historical records of weather.\n",
        "\n",
        "2)The confidence interval and sample size formula assumes that the test set is representative of what you're trying to predict.  Is this assumption justified?"
      ]
    },
    {
      "cell_type": "code",
      "metadata": {
        "id": "kz3Sp713yRGz"
      },
      "source": [
        ""
      ],
      "execution_count": null,
      "outputs": []
    }
  ]
}