{
  "nbformat": 4,
  "nbformat_minor": 0,
  "metadata": {
    "kernelspec": {
      "display_name": "Python 3",
      "language": "python",
      "name": "python3"
    },
    "language_info": {
      "codemirror_mode": {
        "name": "ipython",
        "version": 3
      },
      "file_extension": ".py",
      "mimetype": "text/x-python",
      "name": "python",
      "nbconvert_exporter": "python",
      "pygments_lexer": "ipython3",
      "version": "3.7.0"
    },
    "colab": {
      "name": "HW_5.ipynb",
      "provenance": [],
      "collapsed_sections": []
    }
  },
  "cells": [
    {
      "cell_type": "markdown",
      "metadata": {
        "id": "sFeZzswSD4Jw"
      },
      "source": [
        "# Homework 5\n",
        "\n",
        "## Instructions\n",
        "\n",
        "Some questions refer you to the [ISL textbook](http://www-bcf.usc.edu/~gareth/ISL/ISLR%20Seventh%20Printing.pdf). You may work with other students in the class to solve the problems but should write up your solutions separately.  Some textbook problem solutions are available on the internet.  You are welcome to look at these after attempting the problem yourself first, but please write up your solutions in your own words\n",
        "\n"
      ]
    },
    {
      "cell_type": "markdown",
      "metadata": {
        "id": "WRrNntD3D4Jx"
      },
      "source": [
        "## Conceptual Problems\n",
        "Do problems 1 and 3 in Chapter 7.9."
      ]
    },
    {
      "cell_type": "markdown",
      "metadata": {
        "id": "BDZgApTvEkSU"
      },
      "source": [
        "##Penalized linear regression\n",
        "Run a Lasso and Ridge (linear) regression on the numerical predictors in the auto data set with 3 fold cross validation.  Which method has a lower cross validation error?  Which predictors does the Lasso select?\n",
        "\n",
        "The dataset is here (in pickle format): http://math.oit.edu/~overholserp/autos_cleaned.pkl\n",
        "\n",
        "You may want to use the following tools:\n",
        "\n",
        "https://scikit-learn.org/stable/modules/generated/sklearn.linear_model.LassoCV.html\n",
        "\n",
        "https://scikit-learn.org/stable/modules/generated/sklearn.linear_model.RidgeCV.html\n"
      ]
    },
    {
      "cell_type": "markdown",
      "metadata": {
        "id": "hF8mub9WD4Jy"
      },
      "source": [
        "# Exploring Penalized Splines via Simulation\n",
        "\n",
        "Run the code below to simulate a training data set of n=41 observations of Y, given x in (0, 4) where $Y = x^4-3x^3-x^2+5x+3+\\epsilon$ where $\\epsilon$ is the irreducible error. We'll use splines to estimate $f(x) =  x^4-3x^3-x^2+5x+3$ shown in blue."
      ]
    },
    {
      "cell_type": "code",
      "metadata": {
        "id": "tzCBqQdTD4Jy",
        "outputId": "0281ad56-371b-437f-e626-76368bf03c9c"
      },
      "source": [
        "import numpy as np\n",
        "import matplotlib.pyplot as plt\n",
        "import math\n",
        "\n",
        "np.random.seed(42)  # get the random numbers\n",
        "\n",
        "x = np.arange(0, 4.1, 0.1) # the predictor\n",
        "x.size\n",
        "epsilon = np.random.normal(0, 3, x.size) # irreducible error\n",
        "fx = x**4-3*x**3-x**2+5*x+3\n",
        "Y = fx + epsilon\n",
        "\n",
        "# view results\n",
        "\n",
        "plt.plot(x, Y, \"ro\", x, fx, \"b-\")\n",
        "plt.ylabel('f(x) (blue) and Y (red)')\n",
        "plt.show()\n"
      ],
      "execution_count": null,
      "outputs": [
        {
          "output_type": "display_data",
          "data": {
            "image/png": "[encoded data removed]",
            "text/plain": [
              "<Figure size 432x288 with 1 Axes>"
            ]
          },
          "metadata": {
            "tags": [],
            "needs_background": "light"
          }
        }
      ]
    },
    {
      "cell_type": "code",
      "metadata": {
        "id": "JgPnJOVyD4J3"
      },
      "source": [
        "# cubic truncated power basis with K = 30 knots \n",
        "\n",
        "knots = np.linspace(0, 4, 30)\n",
        "\n",
        "\n",
        "BB = np.stack((np.ones(x.size),x, x**2, x**3))\n",
        "BB = BB.T\n",
        "\n",
        "for i in range(0, knots.size-1):\n",
        "    BB = np.concatenate((BB,np.resize(np.maximum(np.zeros(x.size),(x-knots[i])**3), [x.size,1])),axis=1)"
      ],
      "execution_count": null,
      "outputs": []
    },
    {
      "cell_type": "code",
      "metadata": {
        "id": "21aD7WxED4J7",
        "outputId": "0392e045-19fa-4938-96ca-fcbd48c1f7c5"
      },
      "source": [
        "BB.shape"
      ],
      "execution_count": null,
      "outputs": [
        {
          "output_type": "execute_result",
          "data": {
            "text/plain": [
              "(41, 33)"
            ]
          },
          "metadata": {
            "tags": []
          },
          "execution_count": 72
        }
      ]
    },
    {
      "cell_type": "markdown",
      "metadata": {
        "id": "KfrVTUFzD4J_"
      },
      "source": [
        "The above code creates the cubic truncated power basis with 30 evenly space knots and stores it in matrix BB.  Write code below to compute $\\beta = (BB^TBB+\\lambda I)^{-1}BB^T Y$, the ridge regression solution to minimizing the mean squared training error with the squared coefficients penalized, with your choice of $\\lambda$. Then compute $\\hat{y} = BB \\beta$.  Plot the true $f(x)$ together with your estimate.  Try a few other choices for $\\lambda$, and choose the one that visually gives the best estimate."
      ]
    }
  ]
}