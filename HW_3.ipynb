{
  "nbformat": 4,
  "nbformat_minor": 0,
  "metadata": {
    "kernelspec": {
      "display_name": "Python 3",
      "language": "python",
      "name": "python3"
    },
    "language_info": {
      "codemirror_mode": {
        "name": "ipython",
        "version": 3
      },
      "file_extension": ".py",
      "mimetype": "text/x-python",
      "name": "python",
      "nbconvert_exporter": "python",
      "pygments_lexer": "ipython3",
      "version": "3.7.0"
    },
    "colab": {
      "name": "HW_3.ipynb",
      "provenance": [],
      "collapsed_sections": []
    }
  },
  "cells": [
    {
      "cell_type": "markdown",
      "metadata": {
        "id": "GWXzyNkGAvsW"
      },
      "source": [
        "# Homework 3\n",
        "\n",
        "## Instructions\n",
        "\n",
        "Please turn in a copy (as a pdf) of this notebook as HW3 in Canvas after you've completed it.\n",
        "\n",
        "Some questions refer you to the [ISL textbook](http://www-bcf.usc.edu/~gareth/ISL/ISLR%20Seventh%20Printing.pdf). You may work with other students in the class to solve the problems but should write up your solutions separately.  Some textbook problem solutions are available on the internet.  You are welcome to look at these after attempting the problem yourself first, but please write up your solutions in your own words."
      ]
    },
    {
      "cell_type": "markdown",
      "metadata": {
        "id": "Isds2llUAvsZ"
      },
      "source": [
        "## Problem 1 - Linear Regression via linear algebra\n",
        "\n",
        "### 1.a\n",
        "In Problem 4 of HW 2 you fit several linear regression models using the Auto dataset to predict mpg.  \n",
        "\n",
        "Choose two variables with which to predict mpg and train a linear regression model with them using \"lm\". The form of your model should be $\\hat{mpg}=\\beta_0+\\beta_1X_1+\\beta_2X_2$. Give the model equation with your variables and the values of $\\beta_0$, $\\beta_1$, and $\\beta_2$ from the training."
      ]
    },
    {
      "cell_type": "code",
      "metadata": {
        "id": "HG5WhjsLAvsa"
      },
      "source": [
        "# your code to train the model and output the model summary (could copy from HW 2)"
      ],
      "execution_count": 1,
      "outputs": []
    },
    {
      "cell_type": "markdown",
      "metadata": {
        "id": "NoTWlHhPAvsp"
      },
      "source": [
        "your model equation here, typed"
      ]
    },
    {
      "cell_type": "markdown",
      "metadata": {
        "id": "CTnJnmWgAvsq"
      },
      "source": [
        "### 1b \n",
        "Now fit the model in part 1.a using matrix operations:  create appropriate matrices $\\vec{y}$ and matrix $\\vec{x}$ and then performing matrix transpose, multiplicaton and inversion in Python to compute $\\vec{\\beta}=(\\vec{x}^T\\vec{x})^{-1}\\vec{x}^T\\vec{y}$. Your model coefficents should match those in part 1.a. [Here](https://docs.scipy.org/doc/scipy-0.14.0/reference/tutorial/linalg.html) is a page of matrix operations in Python.  You'll need to convert the pandas data frame containing the Auto dataset to numpy arrays y and x before using the operations."
      ]
    },
    {
      "cell_type": "markdown",
      "metadata": {
        "id": "6qaHu0GEAvsr"
      },
      "source": [
        "## Problem 2 - Logistic Regression, kNN, LDA and QDA\n",
        "\n",
        "Read through the lab in section 4.6 of the [ISL textbook](http://www-bcf.usc.edu/~gareth/ISL/ISLR%20Seventh%20Printing.pdf) and try running the code in a separate notebook or in your favorite Python editor. [Here](https://github.com/JWarmenhoven/ISLR-python/blob/master/Notebooks/Chapter%204.ipynb) is a Python version of the lab.\n",
        "\n",
        "\n",
        "To do: write selected answers and all the code to generate answers to problem 11 on page 121 of ISL. You will likely find the sample code from lab 4.6 useful. The auto dataset has been loaded as pandas dataframe \"df\"."
      ]
    },
    {
      "cell_type": "markdown",
      "metadata": {
        "id": "BDDX5GpRAvss"
      },
      "source": [
        "### 2.a - ISL 4.7.11a\n",
        " In this problem, you will develop a model to predict whether a given car gets high or low gas mileage based on the Auto data set.\n",
        "(a) Create a binary variable, mpg01, that contains a 1 if mpg contains a value above its median, and a 0 if mpg contains a value below its median. You can compute the median using the median() function. Note you may ﬁnd it helpful to use the data.frame() function to create a single data set containing both mpg01 and the other Auto variables."
      ]
    },
    {
      "cell_type": "code",
      "metadata": {
        "id": "THKPDSTHAvsv"
      },
      "source": [
        ""
      ],
      "execution_count": null,
      "outputs": []
    },
    {
      "cell_type": "markdown",
      "metadata": {
        "id": "WSzKfQ59Avs6"
      },
      "source": [
        "### 2.b - ISL 4.7.11b\n",
        "Explore the data graphically in order to investigate the association between mpg01 and the other features. Which of the other features seem most likely to be useful in predicting mpg01? Scatterplots and boxplots may be useful tools to answer this question. "
      ]
    },
    {
      "cell_type": "code",
      "metadata": {
        "id": "X2YBYXaEAvs7"
      },
      "source": [
        ""
      ],
      "execution_count": null,
      "outputs": []
    },
    {
      "cell_type": "markdown",
      "metadata": {
        "id": "w29cJtZIAvtC"
      },
      "source": [
        "### 2.c - ISL 4.7.11c\n",
        "Split the data into a training set and a test set."
      ]
    },
    {
      "cell_type": "code",
      "metadata": {
        "id": "QPHC0cHWAvtD"
      },
      "source": [
        ""
      ],
      "execution_count": null,
      "outputs": []
    },
    {
      "cell_type": "markdown",
      "metadata": {
        "id": "p2sGucTCAvtH"
      },
      "source": [
        "### 2.d - ISL 4.7.11d\n",
        "Perform LDA on the training data in order to predict mpg01 using the variables that seemed most associated with mpg01 in (b). What is the test error of the model obtained?"
      ]
    },
    {
      "cell_type": "code",
      "metadata": {
        "id": "_G5sclQjAvtH"
      },
      "source": [
        ""
      ],
      "execution_count": null,
      "outputs": []
    },
    {
      "cell_type": "markdown",
      "metadata": {
        "id": "d6hh6uDPAvtM"
      },
      "source": [
        "### 2.e - ISL 4.7.11e\n",
        "Perform QDA on the training data in order to predict mpg01 using the variables that seemed most associated with mpg01 in (b). What is the test error of the model obtained?"
      ]
    },
    {
      "cell_type": "code",
      "metadata": {
        "id": "zqRljkpLAvtU"
      },
      "source": [
        ""
      ],
      "execution_count": null,
      "outputs": []
    },
    {
      "cell_type": "markdown",
      "metadata": {
        "id": "AVYrx7TgAvta"
      },
      "source": [
        "### 2.f - ISL 4.7.11f\n",
        "Perform logistic regression on the training data in order to predict mpg01 using the variables that seemed most associated with mpg01 in (b). What is the test error of the model obtained?"
      ]
    },
    {
      "cell_type": "code",
      "metadata": {
        "id": "ruLrI7XzAvta"
      },
      "source": [
        ""
      ],
      "execution_count": null,
      "outputs": []
    },
    {
      "cell_type": "markdown",
      "metadata": {
        "id": "HDwZSnZzAvtm"
      },
      "source": [
        "### 2.g - ISL 4.7.11g\n",
        "Perform KNN on the training data, with several values of K, in order to predict mpg01. Use only the variables that seemed most associated with mpg01 in (b). What test errors do you obtain? Which value of K seems to perform the best on this data set?"
      ]
    },
    {
      "cell_type": "code",
      "metadata": {
        "id": "H5YAojLJAvto"
      },
      "source": [
        ""
      ],
      "execution_count": null,
      "outputs": []
    },
    {
      "cell_type": "markdown",
      "metadata": {
        "id": "NRzbKgRPAvt4"
      },
      "source": [
        "### 2.h\n",
        "Of all the models you fit to predict mpg, which had the best performance on your test set?"
      ]
    },
    {
      "cell_type": "markdown",
      "metadata": {
        "id": "A4U8YfR0Avt6"
      },
      "source": [
        "your written answer here"
      ]
    },
    {
      "cell_type": "markdown",
      "metadata": {
        "id": "d8AzTESkAvt7"
      },
      "source": [
        "## Problem 3 - Understand a logistic regression model\n",
        "In logistic regression, the probability of one of the outcomes of a binary response variable $Y$ is modeling by expressing the log of the odds of $Y=1$ given $\\vec{X}$ as a linear combination of the $p$ variables in $\\vec{X}$:\n",
        "\n",
        "$$ \\ln{\\frac{\\pi_{\\vec{x}}}{1-\\pi_{\\vec{x}}}} = \\vec{X}\\vec{\\beta}$$,\n",
        "\n",
        "where $\\pi_{\\vec{x}} = P(Y=1|\\vec{X}=\\vec{x})$ and $\\vec{X}\\vec{\\beta}=\\beta_0+\\beta_1X_1+\\beta_2X_2+...+\\beta_pX_p$  \n",
        "### 3.a\n",
        "Solve the above equation for $\\pi_{\\vec{x}}$. Upload a pdf along with your notebook."
      ]
    },
    {
      "cell_type": "markdown",
      "metadata": {
        "id": "BxiOM386Avt8"
      },
      "source": [
        "### 3.b\n",
        "\n",
        "Do ISL problem 4.7.6 on page 170. Type your answers here or upload a pdf along with your notebook."
      ]
    },
    {
      "cell_type": "markdown",
      "metadata": {
        "id": "Tif7Ata5Avt-"
      },
      "source": [
        "### 3.c\n",
        "\n",
        "Do ISL problem 4.7.9 on page 170. Type your answers here or upload a pdf along with your notebook."
      ]
    },
    {
      "cell_type": "markdown",
      "metadata": {
        "id": "KRfWjY1xAvuB"
      },
      "source": [
        "### 3.d\n",
        "\n",
        "Suppose $p=1$ in the logistic model, so that $ \\ln{\\frac{\\pi_{\\vec{x}}}{1-\\pi_{\\vec{x}}}} = \\beta_0+\\beta_1X_1$. The coefficient of $X_1$, $\\beta_1$ has a nice interpretation when exponentiated: The odds for $X_1=x+1$ are $e^\\beta_1$ times the odds for $X_1=x$, that is a one unit increase in the $X_1$ variable multiples the odds by $e^{\\beta_1}$. Demonstate that this interpretion is correct by plugging in $x+1$ and $x$ for $X_1$ into $ \\ln{\\frac{\\pi_{\\vec{x}}}{1-\\pi_{\\vec{x}}}} = \\beta_0+\\beta_1X_1$, and showing that the odds $X_1=x$ times $e^{\\beta_1}$ times equals the odds when $X_1=x+1$.\n"
      ]
    },
    {
      "cell_type": "code",
      "metadata": {
        "colab": {
          "base_uri": "https://localhost:8080/",
          "height": 130
        },
        "id": "lRrowcbzcKrT",
        "outputId": "784d649d-1e90-499c-dfcd-a44a04100fe2"
      },
      "source": [
        "import kaggle\n",
        "kaggle competitions download -c titanic"
      ],
      "execution_count": 3,
      "outputs": [
        {
          "output_type": "error",
          "ename": "SyntaxError",
          "evalue": "ignored",
          "traceback": [
            "\u001b[0;36m  File \u001b[0;32m\"<ipython-input-3-16df93f7a290>\"\u001b[0;36m, line \u001b[0;32m2\u001b[0m\n\u001b[0;31m    kaggle competitions download -c titanic\u001b[0m\n\u001b[0m                      ^\u001b[0m\n\u001b[0;31mSyntaxError\u001b[0m\u001b[0;31m:\u001b[0m invalid syntax\n"
          ]
        }
      ]
    },
    {
      "cell_type": "markdown",
      "metadata": {
        "id": "exrNR362AvuD"
      },
      "source": [
        "## Problem 4 - Understanding a disaster via logistic regression\n",
        "\n",
        "In class on April 17th and 18th, we discussed the Titanic disaster.  [Here](https://www.kaggle.com/c/titanic) is a link to the Kaggle page, where you can download the dataset.  I've done so for you.  Please refer to Lab 4.6 for the R code to do the steps below.\n",
        "\n",
        "### 4.a \n",
        "Open the titanic.csv dataset.  How many observations and how many variables does it have?  "
      ]
    },
    {
      "cell_type": "code",
      "metadata": {
        "id": "stuEU4dwAvuE"
      },
      "source": [
        ""
      ],
      "execution_count": null,
      "outputs": []
    },
    {
      "cell_type": "markdown",
      "metadata": {
        "id": "czpU7Dr9AvuK"
      },
      "source": [
        "### 4.b \n",
        "Create a few descriptive statistics of the dataset (\"summary\" or \"hist\" or \"barplot\" are a few options).  Choose one variable that you are interested in using to predict survival."
      ]
    },
    {
      "cell_type": "code",
      "metadata": {
        "id": "1oyZ6DaiAvuL"
      },
      "source": [
        ""
      ],
      "execution_count": null,
      "outputs": []
    },
    {
      "cell_type": "markdown",
      "metadata": {
        "id": "5WLOyV89AvuP"
      },
      "source": [
        "### 4.c\n",
        "Fit a logistic regression model using your variable from part 4.b to predict survival.  Output a summary of the fit, showing the model coefficients. Based on problem 3.d, write an interpretation of the model coefficient of your variable."
      ]
    },
    {
      "cell_type": "code",
      "metadata": {
        "id": "9e_zcC4TAvuQ"
      },
      "source": [
        ""
      ],
      "execution_count": null,
      "outputs": []
    },
    {
      "cell_type": "markdown",
      "metadata": {
        "id": "a_Ve7DeGAvuX"
      },
      "source": [
        "Write your interpretation here: the odds of survival for ... is ... times the odds  for ..."
      ]
    },
    {
      "cell_type": "markdown",
      "metadata": {
        "id": "oaBGCq35AvuY"
      },
      "source": [
        "### 4.d\n",
        "Compute the accuracy of your model on the train.csv dataset, both overall and for survival and death separately."
      ]
    },
    {
      "cell_type": "code",
      "metadata": {
        "id": "lr-e4v8iAvuZ"
      },
      "source": [
        ""
      ],
      "execution_count": null,
      "outputs": []
    },
    {
      "cell_type": "markdown",
      "metadata": {
        "id": "Q5ddHrNwAvuf"
      },
      "source": [
        "### 4.e\n",
        "Extra Credit: enter your choice of logistic regression model in Kaggle.  Write your username and score below: "
      ]
    },
    {
      "cell_type": "markdown",
      "metadata": {
        "id": "ko9CYP1SAvug"
      },
      "source": [
        ""
      ]
    }
  ]
}