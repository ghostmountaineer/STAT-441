{
  "nbformat": 4,
  "nbformat_minor": 0,
  "metadata": {
    "colab": {
      "name": "HW 1.ipynb",
      "provenance": [],
      "collapsed_sections": []
    },
    "kernelspec": {
      "name": "python3",
      "display_name": "Python 3"
    }
  },
  "cells": [
    {
      "cell_type": "markdown",
      "metadata": {
        "id": "qslI9mml26Mt"
      },
      "source": [
        "## Homework 1\n",
        "\n",
        "Instructions\n",
        "This assignment is due Wednesday, April 15 by 5pm. Please turn in a copy (either .pdf or .ipynb file) of this notebook as HW1 in Canvas after you've completed it.\n",
        "\n",
        "Some questions refer you to the ISL textbook. You may work with other students in the class to solve the problems but should write up your solutions separately. Some textbook problem solutions are available on the internet. You are welcome to look at these after attempting the problem yourself first, but please write up your solutions in your own words"
      ]
    },
    {
      "cell_type": "markdown",
      "metadata": {
        "id": "TywvbnOk4WmC"
      },
      "source": [
        "## Problem 1:  ISL 2.4.1\n",
        "For each of parts (a) through (d), indicate whether we would generally\n",
        "expect the performance of a flexible statistical learning method to be\n",
        "better or worse than an inflexible method. Justify your answer.\n",
        "\n",
        "(a) The sample size $n$ is extremely large, and the number of predictors $p$ is small.\n",
        "\n",
        "(b) The number of predictors p is extremely large, and the number\n",
        "of observations $n$ is small.\n",
        "\n",
        "(c) The relationship between the predictors and response is highly\n",
        "non-linear.\n",
        "\n",
        "(d) The variance of the error terms, i.e. $\\sigma^2 = Var(\\epsilon)$, is extremely\n",
        "high.\n"
      ]
    },
    {
      "cell_type": "markdown",
      "metadata": {
        "id": "sXa5aoi84yh0"
      },
      "source": [
        "## Problem 2 ISL 2.4.2\n",
        "\n",
        "Explain whether each scenario is a classification or regression problem, and indicate whether we are most interested in inference or prediction. Finally, provide $n$ and $p$.\n",
        "\n",
        "(a) We collect a set of data on the top 500 firms in the US. For each\n",
        "firm we record profit, number of employees, industry and the\n",
        "CEO salary. We are interested in understanding which factors\n",
        "affect CEO salary.\n",
        "\n",
        "(b) We are considering launching a new product and wish to know\n",
        "whether it will be a success or a failure. We collect data on 20\n",
        "similar products that were previously launched. For each product we have recorded whether it was a success or failure, price\n",
        "charged for the product, marketing budget, competition price,\n",
        "and ten other variables.\n",
        "\n",
        "(c) We are interested in predicting the % change in the USD/Euro\n",
        "exchange rate in relation to the weekly changes in the world\n",
        "stock markets. Hence we collect weekly data for all of 2012. For\n",
        "each week we record the % change in the USD/Euro, the %\n",
        "change in the US market, the % change in the British market,\n",
        "and the % change in the German market."
      ]
    },
    {
      "cell_type": "markdown",
      "metadata": {
        "id": "WQyuMfv841LL"
      },
      "source": [
        "## Problem 3: ISL 2.4.3\n",
        "We now revisit the bias-variance decomposition.\n",
        "\n",
        "(a) Provide a sketch of typical (squared) bias, variance, training error, test error, and Bayes (or irreducible) error curves, on a single plot, as we go from less flexible statistical learning methods\n",
        "towards more flexible approaches. The $x$-axis should represent\n",
        "the amount of flexibility in the method, and the y-axis should\n",
        "represent the values for each curve. There should be five curves.\n",
        "Make sure to label each one.\n",
        "\n",
        "(b) Explain why each of the five curves has the shape displayed in\n",
        "part (a)."
      ]
    },
    {
      "cell_type": "markdown",
      "metadata": {
        "id": "7OvgFQAy40_h"
      },
      "source": [
        "## Problem 4: ISL 2.4.4\n",
        "You will now think of some real-life applications for statistical learning.\n",
        "\n",
        "(a) Describe three real-life applications in which classification might\n",
        "be useful. Describe the response (or target), as well as the predictors. Is the\n",
        "goal of each application inference or prediction? Explain your\n",
        "answer.\n",
        "\n",
        "(b) Describe three real-life applications in which regression might\n",
        "be useful. Describe the response, as well as the predictors. Is the\n",
        "goal of each application inference or prediction? Explain your\n",
        "answer.\n",
        "\n",
        "(c) Describe three real-life applications in which cluster analysis\n",
        "might be useful."
      ]
    },
    {
      "cell_type": "markdown",
      "metadata": {
        "id": "uUQ3THVM40y9"
      },
      "source": [
        "## Problem 5: ISL 2.4.5\n",
        "What are the advantages and disadvantages of a very flexible (versus\n",
        "a less flexible) approach for regression or classification? Under what\n",
        "circumstances might a more flexible approach be preferred to a less\n",
        "flexible approach? When might a less flexible approach be preferred?\n",
        "\n"
      ]
    },
    {
      "cell_type": "markdown",
      "metadata": {
        "id": "pi6Mu7pW4Wzi"
      },
      "source": [
        "## Lab problem 1: ISL 2.4.8\n",
        "This exercise relates to the College data set, which can be found in\n",
        "the file College.csv. It contains a number of variables for 777 different\n",
        "universities and colleges in the US. The variables are\n",
        "\n",
        "• Private : Public/private indicator\n",
        "\n",
        "• Apps : Number of applications received\n",
        "\n",
        "• Accept : Number of applicants accepted\n",
        "\n",
        "• Enroll : Number of new students enrolled\n",
        "\n",
        "• Top10perc : New students from top 10 % of high school class\n",
        "\n",
        "• Top25perc : New students from top 25 % of high school class\n",
        "\n",
        "• F.Undergrad : Number of full-time undergraduates\n",
        "\n",
        "• P.Undergrad : Number of part-time undergraduates\n",
        "\n",
        "• Outstate : Out-of-state tuition\n",
        "\n",
        "• Room.Board : Room and board costs\n",
        "\n",
        "• Books : Estimated book costs\n",
        "\n",
        "• Personal : Estimated personal spending\n",
        "\n",
        "• PhD : Percent of faculty with Ph.D.’s\n",
        "\n",
        "• Terminal : Percent of faculty with terminal degree\n",
        "\n",
        "• S.F.Ratio : Student/faculty ratio\n",
        "\n",
        "• perc.alumni : Percent of alumni who donate\n",
        "\n",
        "• Expend : Instructional expenditure per student\n",
        "\n",
        "• Grad.Rate : Graduation rate\n",
        "\n",
        "Before reading the data into Python, it can be viewed in Excel or a text\n",
        "editor.\n",
        "\n",
        "(a) Use the `read_csv()` function to read the data into Python from the url http://faculty.marshall.usc.edu/gareth-james/ISL/College.csv\n",
        "\n",
        " Call the\n",
        "loaded dataframe college_df. Make sure that you have the directory set\n",
        "to the correct location for the data.\n",
        "\n",
        "(b) Look at the data using the `.describe()` or `.head()` method. You should notice\n",
        "that the first column is just the name of each university. We don’t\n",
        "really want Python to treat this as data. However, it may be handy to\n",
        "have these names for later.  Set the index of college_df to be the college names by using `.set_index()`.  Rerun `.head()` to see what's changed.\n",
        "\n",
        "(c) \n",
        "\n",
        "i. Use `.describe()` to produce a numerical summary\n",
        "of the variables in the data set.\n",
        "\n",
        "\n",
        "ii. Use the the function to produce a scatterplot matrix of\n",
        "the first ten columns or variables of the data. Recall that\n",
        "you can reference the first ten columns of a matrix A using\n",
        "`.iloc[:,1:10]`.\n",
        "\n",
        "\n",
        "iii. Use the seaborn boxplot function to produce side-by-side boxplots of\n",
        "Outstate versus Private.\n",
        "\n",
        "\n",
        "iv. Create a new qualitative variable, called Elite, by binning\n",
        "the Top10perc variable. We are going to divide universities\n",
        "into two groups based on whether or not the proportion\n",
        "of students coming from the top 10 % of their high school\n",
        "classes exceeds 50 %.\n",
        "\n",
        "`College_df['Elite'] = College_df['Top10Perc'] > 50`\n",
        "\n",
        "Use the summary() function to see how many elite universities there are. Now use the plot() function to produce\n",
        "side-by-side boxplots of Outstate versus Elite.\n",
        "\n",
        "\n",
        "v. Use the seaborn `distplot()` function to produce some histograms with\n",
        "differing numbers of bins for a few of the quantitative variables. You may find the `FacetGrid` function useful:\n",
        "it will divide the print window into four regions so that four\n",
        "plots can be made simultaneously. Modifying the arguments\n",
        "to this function will divide the screen in other ways.\n",
        "\n",
        "\n",
        "vi. Continue exploring the data, and provide a brief summary\n",
        "of what you discover.\n",
        "\n"
      ]
    },
    {
      "cell_type": "markdown",
      "metadata": {
        "id": "w5Hr_vFy6Jk7"
      },
      "source": [
        "## Lab problem 2: ISL 2.4.9"
      ]
    },
    {
      "cell_type": "markdown",
      "metadata": {
        "id": "NJMbmTqFHH6G"
      },
      "source": [
        "This will be using a cleaned dataset.\n",
        "\n",
        "Use the `read_pickle()` function to load the file at http://math.oit.edu/~overholserp/autos_cleaned.pkl.  \n",
        "\n",
        "The .csv file was cleaned using this notebook: https://colab.research.google.com/drive/16qXYzI0KOQWvrCRdQOBZ7o406gJO9Lzq\n",
        "\n",
        "We will be treating mpg as a target and the other variables as predictors.\n",
        "\n",
        "Change the index to 'name'.  Note that the names are not unique (multiple years for some cars are included), but that won't cause us any problems in Pandas.  We could create a multi-index using 'name' and 'years' to get a unique name for each row, but we want to retain 'years' as a predictor.\n",
        "\n",
        "(a) Which of the predictors are quantitative, and which are qualitative?\n",
        "\n",
        "(b) What is the range of each quantitative predictor? You can answer this using the `.max()` and `.min()` functions in Pandas.\n",
        "\n",
        "(c) What is the mean and standard deviation of each quantitative\n",
        "predictor?  You can use `describe()`.\n",
        "\n",
        "(d) Now remove the 10th through 85th observations. What is the\n",
        "range, mean, and standard deviation of each predictor in the\n",
        "subset of the data that remains?  You can use `.drop()` and  `.index[]` here.\n",
        "\n",
        "(e) Using the full data set, investigate the predictors graphically,\n",
        "using scatterplots or other tools of your choice. Create some plots\n",
        "highlighting the relationships among the predictors. Comment\n",
        "on your findings.\n",
        "\n",
        "(f) Suppose that we wish to predict gas mileage (mpg) on the basis\n",
        "of the other variables. Do your plots suggest that any of the\n",
        "other variables might be useful in predicting mpg? Justify your\n",
        "answer.\n"
      ]
    },
    {
      "cell_type": "code",
      "metadata": {
        "id": "61Esma0J4oCh"
      },
      "source": [
        ""
      ],
      "execution_count": null,
      "outputs": []
    }
  ]
}