{
  "nbformat": 4,
  "nbformat_minor": 0,
  "metadata": {
    "kernelspec": {
      "display_name": "Python 3",
      "language": "python",
      "name": "python3"
    },
    "language_info": {
      "codemirror_mode": {
        "name": "ipython",
        "version": 3
      },
      "file_extension": ".py",
      "mimetype": "text/x-python",
      "name": "python",
      "nbconvert_exporter": "python",
      "pygments_lexer": "ipython3",
      "version": "3.7.0"
    },
    "colab": {
      "name": "HW2_Python.ipynb",
      "provenance": [],
      "collapsed_sections": []
    }
  },
  "cells": [
    {
      "cell_type": "code",
      "metadata": {
        "id": "KgKQKZGEdNV-"
      },
      "source": [
        "import pandas as pd\n",
        "df = pd.read_csv('https://trevorhastie.github.io/ISLR/Auto.csv')"
      ],
      "execution_count": 1,
      "outputs": []
    },
    {
      "cell_type": "markdown",
      "metadata": {
        "id": "UFs6nhye2sGL"
      },
      "source": [
        "# Homework 2 - Python version\n",
        "\n",
        "## Instructions\n",
        "\n",
        "Please turn in a copy (as a pdf) of this notebook as HW2 in Canvas after you've completed it.\n",
        "\n",
        "Some questions refer you to the [ISL textbook](http://www-bcf.usc.edu/~gareth/ISL/ISLR%20Seventh%20Printing.pdf). You may work with other students in the class to solve the problems but should write up your solutions separately.  Some textbook problem solutions are available on the internet.  You are welcome to look at these after attempting the problem yourself first, but please write up your solutions in your own words\n",
        "\n"
      ]
    },
    {
      "cell_type": "markdown",
      "metadata": {
        "id": "g-GSVbo12sGP"
      },
      "source": [
        "## Problem 1: Bias-Variance Decomposition\n",
        "In lecture we proved that the expected test MSE $E_{X, S, \\epsilon, Y}[Y-\\hat{Y}]^2$ could be decomposed into three parts, two variance terms and a squared bias term.  \n",
        "\n",
        "Rewrite the proof of this decomposition, any needed facts about expectations or variances is and when any assumptions are needed.  If you are uncomfortable with any of the expectations, then you may wish to write the expression in terms of integrals, i.e. $E_X[g(X)]=\\int g(x)f_X(x) dx$ where $f_X(x)$ is the probability density function of $X$.  \n",
        "\n",
        "To do: you may either type your solutions here (put dollar signs around latex expressions) or turn in a separate handwritten solution to my mailbox near BH 170."
      ]
    },
    {
      "cell_type": "markdown",
      "metadata": {
        "id": "p7SUyLXE2sGR"
      },
      "source": [
        "## Problem 2: ISL 2.4.1 and ISL 2.4.2\n",
        "\n",
        "A flexible method is one like kNN with a small value of k.  An inflexible method is one like kNN with a large value of k or linear regression.  Inflexible methods make strong assumptions about the shape of the true relationship between the response $Y$ and predictors $\\bf X$. \n",
        "\n",
        "Building a model for prediction means that we are most interested in obtaining a good guess for the response variable $Y$.  Building a model for inference (or estimation) means we are most interested in understanding the relationship between the predictors $\\bf X$ and the response $Y$. \n",
        "\n",
        "Notation: $n$ is generally the number of examples of $\\bf X$ and $Y$ in a dataset, while $p$ is the number of predictors in $\\bf X$. \n",
        "\n",
        "To do: answer questions 1 and 2 on page 52 of ISL. You may either type your solutions here or turn in a separate handwritten solution to my mailbox near BH 170.\n"
      ]
    },
    {
      "cell_type": "markdown",
      "metadata": {
        "id": "rVC_AbmE2sGT"
      },
      "source": [
        "## Problem 3: ISL 3.7.3\n",
        "To do: answer problem 3.7.3 on page 120 of ISL. You may either type your solutions here or turn in a separate handwritten solution to my mailbox near BH 170."
      ]
    },
    {
      "cell_type": "markdown",
      "metadata": {
        "id": "Gc_WRJSA2sGY"
      },
      "source": [
        "## Problem 4: ISL 3.7.8 and 3.7.9\n",
        "Read through the lab in section 3.6 of the [ISL textbook](http://www-bcf.usc.edu/~gareth/ISL/ISLR%20Seventh%20Printing.pdf).  The Python version of the code is available [here](https://github.com/jcrouser/islr-python/blob/master/Lab%202%20-%20Linear%20Regression%20in%20Python.ipynb). You can open in it in Jupyter Notebook by clicking the \"raw\" tab in the top right corner, right-click to save target as.  Once saved to your computer or onedrive, change this file's extension to .ipynb. From Jupyter Notebook, navigate to this file's location to open it.  \n",
        "\n",
        "\n",
        "\n",
        "\n",
        "To do: write selected answers and all the code to generate answers to problems 8 and 9 on page 121 of ISL. You will likely find the sample code from lab 3 useful. The auto dataset has been loaded as pandas dataframe \"df\"."
      ]
    },
    {
      "cell_type": "code",
      "metadata": {
        "id": "fTnZrKVndMIZ"
      },
      "source": [
        ""
      ],
      "execution_count": null,
      "outputs": []
    },
    {
      "cell_type": "markdown",
      "metadata": {
        "id": "WV7nmpwS2sGh"
      },
      "source": [
        "### ISL 3.7.8a\n",
        "This question involves the use of simple linear regression on the Auto data set.\n",
        "\n",
        "Use the sm.OLS.from_formula and fit functions (from statsmodels.api) to perform a simple linear regression with mpg as the response and horsepower as the predictor. Use the summary function to print the results."
      ]
    },
    {
      "cell_type": "code",
      "metadata": {
        "id": "RJT-oRsY2sGp"
      },
      "source": [
        ""
      ],
      "execution_count": 2,
      "outputs": []
    },
    {
      "cell_type": "markdown",
      "metadata": {
        "id": "krSxr3R52sHF"
      },
      "source": [
        "### 3.7.8a\n",
        "\n",
        "Is the relationship between the predictor and the response positive or negative? \n",
        "\n",
        "What is the predicted mpg associated with a horsepower of 98? What are the associated 95% conﬁdence and prediction intervals?\n",
        "\n"
      ]
    },
    {
      "cell_type": "markdown",
      "metadata": {
        "id": "ci8qMbPN2sHN"
      },
      "source": [
        "your written answer here"
      ]
    },
    {
      "cell_type": "markdown",
      "metadata": {
        "id": "ihDnKg6S2sHa"
      },
      "source": [
        "### 3.7.8b \n",
        "Plot the response and the predictor. Use the regplot function (from seaborn) to display the least squares regression line.\n"
      ]
    },
    {
      "cell_type": "code",
      "metadata": {
        "id": "v0f6CkYb2sHc"
      },
      "source": [
        ""
      ],
      "execution_count": null,
      "outputs": []
    },
    {
      "cell_type": "markdown",
      "metadata": {
        "id": "2Zd080wq2sHm"
      },
      "source": [
        "### 3.7.8c\n",
        "Follow code in the Python lab (In 115, 116 and 130) to produce diagnostic plots of the least squares regression ﬁt.\n"
      ]
    },
    {
      "cell_type": "code",
      "metadata": {
        "id": "83W7qvaU2sHn"
      },
      "source": [
        ""
      ],
      "execution_count": null,
      "outputs": []
    },
    {
      "cell_type": "markdown",
      "metadata": {
        "id": "J4rSNQHo2sHy"
      },
      "source": [
        "### 3.7.8c\n",
        " Comment on any problems you see with the ﬁt. "
      ]
    },
    {
      "cell_type": "markdown",
      "metadata": {
        "id": "g-Zg7DZN2sH0"
      },
      "source": [
        "your written answer"
      ]
    },
    {
      "cell_type": "markdown",
      "metadata": {
        "id": "xLglnKeZ2sH0"
      },
      "source": [
        "### 3.7.9a\n",
        "This question involves the use of multiple linear regression on the Auto data set.\n",
        "\n",
        "Produce a scatterplot matrix which includes all of the variables in the data set. (you saw this code in lab 2 and HW 1)"
      ]
    },
    {
      "cell_type": "code",
      "metadata": {
        "id": "OkcQhj7L2sH4"
      },
      "source": [
        ""
      ],
      "execution_count": null,
      "outputs": []
    },
    {
      "cell_type": "markdown",
      "metadata": {
        "id": "sxkmGSaC2sIJ"
      },
      "source": [
        "### 3.7.9b\n",
        "Some definitions: a *quantitative* variable has numerical values (i.e. height), while a *qualitative* variable's values fall into categories (i.e. favorite color).  A *qualitative* variable whose values fall into two categories is called a *binary* variable.\n",
        "\n",
        "Compute the matrix of correlations between the variables using the function corr(). You will need to exclude the name variable, which is qualitative."
      ]
    },
    {
      "cell_type": "code",
      "metadata": {
        "id": "0OeGtjOq2sIT"
      },
      "source": [
        ""
      ],
      "execution_count": null,
      "outputs": []
    },
    {
      "cell_type": "markdown",
      "metadata": {
        "id": "xBwxIjUI2sIm"
      },
      "source": [
        "### 3.7.9c\n",
        "\n",
        "Use the sm.OLS.from_formula and fit functions (from statsmodels.api) to perform a multiple linear regression with mpg as the response and all other variables except name as the predictors. Use the summary function to print the results."
      ]
    },
    {
      "cell_type": "code",
      "metadata": {
        "id": "7P1bfnH42sIq"
      },
      "source": [
        ""
      ],
      "execution_count": null,
      "outputs": []
    },
    {
      "cell_type": "markdown",
      "metadata": {
        "id": "KKk1lcpE2sIz"
      },
      "source": [
        "### 3.7.9d\n",
        "\n",
        "Follow the code chunk In 137 in the Python lab to produce diagnostic plots of the linear regression ﬁt. "
      ]
    },
    {
      "cell_type": "code",
      "metadata": {
        "id": "54RZYtPp2sI1"
      },
      "source": [
        ""
      ],
      "execution_count": null,
      "outputs": []
    },
    {
      "cell_type": "markdown",
      "metadata": {
        "id": "U8Fd8UWq2sJE"
      },
      "source": [
        "### 3.7.9d\n",
        "Comment on any problems you see with the ﬁt. "
      ]
    },
    {
      "cell_type": "markdown",
      "metadata": {
        "id": "uZvO8opD2sJS"
      },
      "source": [
        "your written answer here"
      ]
    },
    {
      "cell_type": "markdown",
      "metadata": {
        "id": "ac8MP3Px2sJU"
      },
      "source": [
        "### 3.7.9e \n",
        "Use the * and : symbols to ﬁt linear regression models with interaction eﬀects."
      ]
    },
    {
      "cell_type": "code",
      "metadata": {
        "id": "4jFJY5NG2sJW"
      },
      "source": [
        ""
      ],
      "execution_count": null,
      "outputs": []
    },
    {
      "cell_type": "markdown",
      "metadata": {
        "id": "nvAz-_7v2sJe"
      },
      "source": [
        "### 3.7.9e\n",
        "A small p-value means a term is statistically significant.  \n",
        "Do any interactions appear to be statistically signiﬁcant?"
      ]
    },
    {
      "cell_type": "markdown",
      "metadata": {
        "id": "1Y4pYL7K2sJj"
      },
      "source": [
        "your written answer"
      ]
    },
    {
      "cell_type": "markdown",
      "metadata": {
        "id": "lGXJyuO32sJk"
      },
      "source": [
        "### 3.7.9f\n",
        "Try a few diﬀerent transformations of the variables, such as $\\log(X)$, $\\sqrt{X}$, $X^2$.  "
      ]
    },
    {
      "cell_type": "code",
      "metadata": {
        "id": "curR2DNf2sJl"
      },
      "source": [
        ""
      ],
      "execution_count": null,
      "outputs": []
    },
    {
      "cell_type": "markdown",
      "metadata": {
        "id": "0zyJkrBs2sJu"
      },
      "source": [
        "### 3.7.9f\n",
        "Comment on your ﬁndings."
      ]
    },
    {
      "cell_type": "markdown",
      "metadata": {
        "id": "1i8e-mAW2sJw"
      },
      "source": [
        "your written answer"
      ]
    }
  ]
}
